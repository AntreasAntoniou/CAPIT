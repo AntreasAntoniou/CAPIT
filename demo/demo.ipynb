{
 "cells": [
  {
   "cell_type": "code",
   "execution_count": 1,
   "metadata": {},
   "outputs": [],
   "source": [
    "from typing import List\n",
    "import gradio as gr\n",
    "import numpy as np\n",
    "\n",
    "def upload_file(files):\n",
    "    file_paths = [file.name for file in files]\n",
    "    return file_paths\n",
    "\n",
    "def check_if_folder_has_images(file_paths):\n",
    "    return len(file_paths) > 0\n",
    "\n",
    "def show_state_of_files(file_paths):\n",
    "    print(file_paths.value)\n",
    "    \n",
    "def rank(images, prompt):\n",
    "    # randomize order of images\n",
    "    images = [file.name for file in images]\n",
    "    return np.random.permutation(images)\n",
    "    "
   ]
  },
  {
   "cell_type": "code",
   "execution_count": null,
   "metadata": {},
   "outputs": [],
   "source": []
  },
  {
   "cell_type": "code",
   "execution_count": 2,
   "metadata": {},
   "outputs": [
    {
     "name": "stdout",
     "output_type": "stream",
     "text": [
      "Running on local URL:  http://127.0.0.1:7861\n",
      "Running on public URL: https://2a8bb4d2b2573012.gradio.app\n",
      "\n",
      "This share link expires in 72 hours. For free permanent hosting and GPU upgrades (NEW!), check out Spaces: https://huggingface.co/spaces\n"
     ]
    },
    {
     "data": {
      "text/html": [
       "<div><iframe src=\"https://2a8bb4d2b2573012.gradio.app\" width=\"100%\" height=\"500\" allow=\"autoplay; camera; microphone; clipboard-read; clipboard-write;\" frameborder=\"0\" allowfullscreen></iframe></div>"
      ],
      "text/plain": [
       "<IPython.core.display.HTML object>"
      ]
     },
     "metadata": {},
     "output_type": "display_data"
    }
   ],
   "source": [
    "from distutils.command.upload import upload\n",
    "import gradio as gr\n",
    "\n",
    "def build_demo(collection_num_images: int = 0, challenge_num_images: int = 5):\n",
    "    with gr.Blocks() as demo:\n",
    "        with gr.Row():\n",
    "            with gr.Column(scale=1, min_width=224):\n",
    "                prompt = gr.Textbox(label=\"prompt-tbox\", value=\"Your prompt here\")\n",
    "        with gr.Row():\n",
    "            with gr.Column(scale=1, min_width=224):\n",
    "                rank_status = gr.Button(value=\"rank\", label=\"ran-btn\")\n",
    "        with gr.Row():\n",
    "            if collection_num_images > 0:\n",
    "                collection_images = []\n",
    "                with gr.Column(scale=collection_num_images, min_width=224):\n",
    "                    for i in range(collection_num_images):\n",
    "                        collection_images.append(gr.Image(shape=(224, 224), label=f\"collection-image-{i}\"))\n",
    "            with gr.Column(scale=challenge_num_images, min_width=224):\n",
    "                challenge_images = []\n",
    "                for i in range(challenge_num_images):\n",
    "                    challenge_images.append(gr.Image(shape=(224, 224), label=f\"challenge-image-{i}\"))\n",
    "            with gr.Column(scale=challenge_num_images, min_width=224):\n",
    "                ranked_images = []\n",
    "                for i in range(challenge_num_images):\n",
    "                    ranked_images.append(gr.Image(shape=(224, 224), label=f\"ranked-image-{i}\"))\n",
    "        with gr.Row():\n",
    "            with gr.Column(scale=2, min_width=224):\n",
    "                file_output = gr.File(label=\"challenge-images-folder\")\n",
    "                upload_button = gr.UploadButton(\"Browse to select a folder with images\", file_types=[\"image\"], file_count=\"multiple\")\n",
    "                upload_button.upload(upload_file, upload_button, file_output)\n",
    "                upload_button.upload(upload_file, upload_button, challenge_images)\n",
    "        rank_status.click(fn=rank, inputs=[upload_button, prompt], outputs=ranked_images)\n",
    "    return demo\n",
    "demo = build_demo()\n",
    "demo.launch(share=True, debug=True)"
   ]
  }
 ],
 "metadata": {
  "kernelspec": {
   "display_name": "Python 3.10.6 ('base')",
   "language": "python",
   "name": "python3"
  },
  "language_info": {
   "codemirror_mode": {
    "name": "ipython",
    "version": 3
   },
   "file_extension": ".py",
   "mimetype": "text/x-python",
   "name": "python",
   "nbconvert_exporter": "python",
   "pygments_lexer": "ipython3",
   "version": "3.10.6"
  },
  "orig_nbformat": 4,
  "vscode": {
   "interpreter": {
    "hash": "378cc278b42c1eceffcac57679d483e09c256f28d4a65ec194c01bb14cb8d12e"
   }
  }
 },
 "nbformat": 4,
 "nbformat_minor": 2
}
